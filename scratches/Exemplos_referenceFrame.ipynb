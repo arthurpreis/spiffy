{
 "cells": [
  {
   "cell_type": "markdown",
   "metadata": {},
   "source": [
    "## Usando sympy para manipular sistemas de referência"
   ]
  },
  {
   "cell_type": "markdown",
   "metadata": {},
   "source": [
    "Documentação: \n",
    "\n",
    "https://docs.sympy.org/latest/modules/physics/vector/api/classes.html"
   ]
  },
  {
   "cell_type": "code",
   "execution_count": 1,
   "metadata": {},
   "outputs": [],
   "source": [
    "import sympy\n",
    "from sympy import sin, cos, pi, Symbol, symbols, Matrix, Transpose, init_session, Array, tensorproduct\n",
    "from sympy.physics.vector import ReferenceFrame, outer, dynamicsymbols, Point"
   ]
  },
  {
   "cell_type": "code",
   "execution_count": 2,
   "metadata": {},
   "outputs": [],
   "source": [
    "# Símbolos que usarei pra angulos\n",
    "alpha, beta, gamma = symbols('α β γ') # digite \\alpha+tab pra usar o símbolo unicode"
   ]
  },
  {
   "cell_type": "markdown",
   "metadata": {},
   "source": [
    "Criando um reference frame:"
   ]
  },
  {
   "cell_type": "code",
   "execution_count": 3,
   "metadata": {},
   "outputs": [
    {
     "data": {
      "text/plain": [
       "sympy.physics.vector.frame.ReferenceFrame"
      ]
     },
     "execution_count": 3,
     "metadata": {},
     "output_type": "execute_result"
    }
   ],
   "source": [
    "#variável = ReferenceFrame(\"Representação da variável\")\n",
    "A = ReferenceFrame(\"A\")\n",
    "type(A)"
   ]
  },
  {
   "cell_type": "markdown",
   "metadata": {},
   "source": [
    "Toda referência já vem com vetores x, y, z, ortonormais:"
   ]
  },
  {
   "cell_type": "code",
   "execution_count": 4,
   "metadata": {},
   "outputs": [
    {
     "data": {
      "text/latex": [
       "$\\displaystyle \\mathbf{\\hat{a}_x}$"
      ],
      "text/plain": [
       "A.x"
      ]
     },
     "execution_count": 4,
     "metadata": {},
     "output_type": "execute_result"
    }
   ],
   "source": [
    "v1 = A.x # v1 = [1,0,0]\n",
    "v1"
   ]
  },
  {
   "cell_type": "markdown",
   "metadata": {},
   "source": [
    "### Operações com vetores:"
   ]
  },
  {
   "cell_type": "code",
   "execution_count": 5,
   "metadata": {},
   "outputs": [
    {
     "data": {
      "text/latex": [
       "$\\displaystyle 2\\mathbf{\\hat{a}_x} + \\mathbf{\\hat{a}_y}$"
      ],
      "text/plain": [
       "2*A.x + A.y"
      ]
     },
     "execution_count": 5,
     "metadata": {},
     "output_type": "execute_result"
    }
   ],
   "source": [
    "v2 = 2*A.x + A.y #v2 = [2, 1, 0]\n",
    "v2"
   ]
  },
  {
   "cell_type": "code",
   "execution_count": 6,
   "metadata": {},
   "outputs": [
    {
     "data": {
      "text/latex": [
       "$\\displaystyle - \\mathbf{\\hat{a}_z}$"
      ],
      "text/plain": [
       "- A.z"
      ]
     },
     "execution_count": 6,
     "metadata": {},
     "output_type": "execute_result"
    }
   ],
   "source": [
    "# produto vetorial\n",
    "v2.cross(v1)"
   ]
  },
  {
   "cell_type": "code",
   "execution_count": 7,
   "metadata": {},
   "outputs": [
    {
     "data": {
      "text/latex": [
       "$\\displaystyle 2$"
      ],
      "text/plain": [
       "2"
      ]
     },
     "execution_count": 7,
     "metadata": {},
     "output_type": "execute_result"
    }
   ],
   "source": [
    "# produto escalar\n",
    "v2.dot(v1)"
   ]
  },
  {
   "cell_type": "markdown",
   "metadata": {},
   "source": [
    "### Criando outra base"
   ]
  },
  {
   "cell_type": "code",
   "execution_count": 8,
   "metadata": {},
   "outputs": [
    {
     "data": {
      "text/plain": [
       "sympy.physics.vector.frame.ReferenceFrame"
      ]
     },
     "execution_count": 8,
     "metadata": {},
     "output_type": "execute_result"
    }
   ],
   "source": [
    "B = ReferenceFrame(\"B\")\n",
    "type(B)"
   ]
  },
  {
   "cell_type": "markdown",
   "metadata": {},
   "source": [
    "Criando relações entre A e B:"
   ]
  },
  {
   "cell_type": "code",
   "execution_count": 9,
   "metadata": {},
   "outputs": [],
   "source": [
    "B.orient(A, 'Space', (alpha, 0, 0), '123')\n",
    "#   B a partir de  A  \n",
    "#               'space' = faz tres rotações a partir dos eixos estacionarios da origem\n",
    "#                         (a, b, c) = angulo a rodar\n",
    "#                         123 = ordem das rotações, \"XYZ\" é equivalente\n",
    "# B.orient(A, 'Space', (alpha, 0, 0), \"XYZ\")\n",
    "# B.orient(A, 'Space', (alpha, 0, 0), \"XYZ\")"
   ]
  },
  {
   "cell_type": "code",
   "execution_count": 11,
   "metadata": {},
   "outputs": [],
   "source": [
    "# Definindo vetores em B:\n",
    "u1 = B.x - B.z"
   ]
  },
  {
   "cell_type": "code",
   "execution_count": 10,
   "metadata": {},
   "outputs": [
    {
     "data": {
      "text/latex": [
       "$\\displaystyle 2\\mathbf{\\hat{b}_x} + \\operatorname{cos}\\left(α\\right)\\mathbf{\\hat{b}_y} -  \\operatorname{sin}\\left(α\\right)\\mathbf{\\hat{b}_z}$"
      ],
      "text/plain": [
       "2*B.x + cos(α)*B.y - sin(α)*B.z"
      ]
     },
     "execution_count": 10,
     "metadata": {},
     "output_type": "execute_result"
    }
   ],
   "source": [
    "# Como um vetor definido em A é escrito em B:\n",
    "v2.express(B)"
   ]
  },
  {
   "cell_type": "code",
   "execution_count": 12,
   "metadata": {},
   "outputs": [
    {
     "data": {
      "text/latex": [
       "$\\displaystyle -  \\operatorname{cos}\\left(α\\right)\\mathbf{\\hat{b}_x} + (2 - \\operatorname{sin}\\left(α\\right))\\mathbf{\\hat{b}_y} -  \\operatorname{cos}\\left(α\\right)\\mathbf{\\hat{b}_z}$"
      ],
      "text/plain": [
       "- cos(α)*B.x + (2 - sin(α))*B.y - cos(α)*B.z"
      ]
     },
     "execution_count": 12,
     "metadata": {},
     "output_type": "execute_result"
    }
   ],
   "source": [
    "# Pode operar vetores de bases diferentes sem problema:\n",
    "v2.cross(u1)"
   ]
  },
  {
   "cell_type": "markdown",
   "metadata": {},
   "source": [
    "### Matriz de rotação\n",
    " (Direct Cosine Matrix)"
   ]
  },
  {
   "cell_type": "code",
   "execution_count": 13,
   "metadata": {},
   "outputs": [
    {
     "data": {
      "text/latex": [
       "$\\displaystyle \\left[\\begin{matrix}1 & 0 & 0\\\\0 & \\cos{\\left(α \\right)} & - \\sin{\\left(α \\right)}\\\\0 & \\sin{\\left(α \\right)} & \\cos{\\left(α \\right)}\\end{matrix}\\right]$"
      ],
      "text/plain": [
       "Matrix([\n",
       "[1,      0,       0],\n",
       "[0, cos(α), -sin(α)],\n",
       "[0, sin(α),  cos(α)]])"
      ]
     },
     "execution_count": 13,
     "metadata": {},
     "output_type": "execute_result"
    }
   ],
   "source": [
    "A.dcm(B)"
   ]
  },
  {
   "cell_type": "code",
   "execution_count": 14,
   "metadata": {},
   "outputs": [
    {
     "data": {
      "text/latex": [
       "$\\displaystyle \\left[\\begin{matrix}1 & 0 & 0\\\\0 & \\cos{\\left(α \\right)} & \\sin{\\left(α \\right)}\\\\0 & - \\sin{\\left(α \\right)} & \\cos{\\left(α \\right)}\\end{matrix}\\right]$"
      ],
      "text/plain": [
       "Matrix([\n",
       "[1,       0,      0],\n",
       "[0,  cos(α), sin(α)],\n",
       "[0, -sin(α), cos(α)]])"
      ]
     },
     "execution_count": 14,
     "metadata": {},
     "output_type": "execute_result"
    }
   ],
   "source": [
    "B.dcm(A)"
   ]
  },
  {
   "cell_type": "markdown",
   "metadata": {},
   "source": [
    "### ângulos de Euler"
   ]
  },
  {
   "cell_type": "code",
   "execution_count": 16,
   "metadata": {},
   "outputs": [],
   "source": [
    "C = ReferenceFrame(\"C\")\n",
    "D = ReferenceFrame(\"D\")\n",
    "E = ReferenceFrame(\"E\")"
   ]
  },
  {
   "cell_type": "code",
   "execution_count": 18,
   "metadata": {},
   "outputs": [
    {
     "data": {
      "text/latex": [
       "$\\displaystyle \\left[\\begin{matrix}- \\sin{\\left(α \\right)} \\sin{\\left(γ \\right)} \\cos{\\left(β \\right)} + \\cos{\\left(α \\right)} \\cos{\\left(γ \\right)} & \\sin{\\left(α \\right)} \\cos{\\left(γ \\right)} + \\sin{\\left(γ \\right)} \\cos{\\left(α \\right)} \\cos{\\left(β \\right)} & \\sin{\\left(β \\right)} \\sin{\\left(γ \\right)}\\\\- \\sin{\\left(α \\right)} \\cos{\\left(β \\right)} \\cos{\\left(γ \\right)} - \\sin{\\left(γ \\right)} \\cos{\\left(α \\right)} & - \\sin{\\left(α \\right)} \\sin{\\left(γ \\right)} + \\cos{\\left(α \\right)} \\cos{\\left(β \\right)} \\cos{\\left(γ \\right)} & \\sin{\\left(β \\right)} \\cos{\\left(γ \\right)}\\\\\\sin{\\left(α \\right)} \\sin{\\left(β \\right)} & - \\sin{\\left(β \\right)} \\cos{\\left(α \\right)} & \\cos{\\left(β \\right)}\\end{matrix}\\right]$"
      ],
      "text/plain": [
       "Matrix([\n",
       "[-sin(α)*sin(γ)*cos(β) + cos(α)*cos(γ),  sin(α)*cos(γ) + sin(γ)*cos(α)*cos(β), sin(β)*sin(γ)],\n",
       "[-sin(α)*cos(β)*cos(γ) - sin(γ)*cos(α), -sin(α)*sin(γ) + cos(α)*cos(β)*cos(γ), sin(β)*cos(γ)],\n",
       "[                        sin(α)*sin(β),                        -sin(β)*cos(α),        cos(β)]])"
      ]
     },
     "execution_count": 18,
     "metadata": {},
     "output_type": "execute_result"
    }
   ],
   "source": [
    "C.orient(A, \"Body\", (alpha, beta, gamma), \"ZXZ\")\n",
    "# Body = corpo rígido = angulos de euler\n",
    "# ZXZ = Roda alpha em torno de Z, roda beta em torno de X e gamma em torno de Z'\n",
    "C.dcm(A)"
   ]
  },
  {
   "cell_type": "code",
   "execution_count": 19,
   "metadata": {},
   "outputs": [
    {
     "data": {
      "text/latex": [
       "$\\displaystyle \\left[\\begin{matrix}- \\sin{\\left(α \\right)} \\sin{\\left(γ \\right)} + \\cos{\\left(α \\right)} \\cos{\\left(β \\right)} \\cos{\\left(γ \\right)} & \\sin{\\left(β \\right)} \\cos{\\left(γ \\right)} & - \\sin{\\left(α \\right)} \\cos{\\left(β \\right)} \\cos{\\left(γ \\right)} - \\sin{\\left(γ \\right)} \\cos{\\left(α \\right)}\\\\- \\sin{\\left(β \\right)} \\cos{\\left(α \\right)} & \\cos{\\left(β \\right)} & \\sin{\\left(α \\right)} \\sin{\\left(β \\right)}\\\\\\sin{\\left(α \\right)} \\cos{\\left(γ \\right)} + \\sin{\\left(γ \\right)} \\cos{\\left(α \\right)} \\cos{\\left(β \\right)} & \\sin{\\left(β \\right)} \\sin{\\left(γ \\right)} & - \\sin{\\left(α \\right)} \\sin{\\left(γ \\right)} \\cos{\\left(β \\right)} + \\cos{\\left(α \\right)} \\cos{\\left(γ \\right)}\\end{matrix}\\right]$"
      ],
      "text/plain": [
       "Matrix([\n",
       "[-sin(α)*sin(γ) + cos(α)*cos(β)*cos(γ), sin(β)*cos(γ), -sin(α)*cos(β)*cos(γ) - sin(γ)*cos(α)],\n",
       "[                       -sin(β)*cos(α),        cos(β),                         sin(α)*sin(β)],\n",
       "[ sin(α)*cos(γ) + sin(γ)*cos(α)*cos(β), sin(β)*sin(γ), -sin(α)*sin(γ)*cos(β) + cos(α)*cos(γ)]])"
      ]
     },
     "execution_count": 19,
     "metadata": {},
     "output_type": "execute_result"
    }
   ],
   "source": [
    "D.orient(A, \"Body\", (alpha, beta, gamma), \"YZY\") # outro exemplo\n",
    "D.dcm(A)"
   ]
  },
  {
   "cell_type": "code",
   "execution_count": 36,
   "metadata": {},
   "outputs": [
    {
     "data": {
      "text/latex": [
       "$\\displaystyle \\left[\\begin{matrix}1 & 0.5 & 0\\\\-0.5 & 1 & 0\\\\0 & 0 & 1\\end{matrix}\\right]$"
      ],
      "text/plain": [
       "Matrix([\n",
       "[   1, 0.5, 0],\n",
       "[-0.5,   1, 0],\n",
       "[   0,   0, 1]])"
      ]
     },
     "execution_count": 36,
     "metadata": {},
     "output_type": "execute_result"
    }
   ],
   "source": [
    "# como usar a matriz de rotação pra definir a base:\n",
    "\n",
    "M = Matrix([[  1,  -.5, 0],\n",
    "            [ .5,    1, 0],\n",
    "            [  0,    0, 1]])\n",
    "E.orient(A, \"DCM\", M)\n",
    "E.dcm(A)\n"
   ]
  },
  {
   "cell_type": "markdown",
   "metadata": {},
   "source": [
    "Como expressar um vetor em outra base:"
   ]
  },
  {
   "cell_type": "code",
   "execution_count": 37,
   "metadata": {},
   "outputs": [
    {
     "data": {
      "text/latex": [
       "$\\displaystyle 2.5\\mathbf{\\hat{e}_x}$"
      ],
      "text/plain": [
       "2.50000000000000*E.x"
      ]
     },
     "execution_count": 37,
     "metadata": {},
     "output_type": "execute_result"
    }
   ],
   "source": [
    "v2.express(E)"
   ]
  },
  {
   "cell_type": "markdown",
   "metadata": {},
   "source": [
    "Dá pra converter em matriz"
   ]
  },
  {
   "cell_type": "code",
   "execution_count": 43,
   "metadata": {},
   "outputs": [
    {
     "data": {
      "text/latex": [
       "$\\displaystyle \\left[\\begin{matrix}- 2 \\sin{\\left(α \\right)} \\sin{\\left(γ \\right)} \\cos{\\left(β \\right)} + \\sin{\\left(α \\right)} \\cos{\\left(γ \\right)} + \\sin{\\left(γ \\right)} \\cos{\\left(α \\right)} \\cos{\\left(β \\right)} + 2 \\cos{\\left(α \\right)} \\cos{\\left(γ \\right)}\\\\- \\sin{\\left(α \\right)} \\sin{\\left(γ \\right)} - 2 \\sin{\\left(α \\right)} \\cos{\\left(β \\right)} \\cos{\\left(γ \\right)} - 2 \\sin{\\left(γ \\right)} \\cos{\\left(α \\right)} + \\cos{\\left(α \\right)} \\cos{\\left(β \\right)} \\cos{\\left(γ \\right)}\\\\2 \\sin{\\left(α \\right)} \\sin{\\left(β \\right)} - \\sin{\\left(β \\right)} \\cos{\\left(α \\right)}\\end{matrix}\\right]$"
      ],
      "text/plain": [
       "Matrix([\n",
       "[-2*sin(α)*sin(γ)*cos(β) + sin(α)*cos(γ) + sin(γ)*cos(α)*cos(β) + 2*cos(α)*cos(γ)],\n",
       "[-sin(α)*sin(γ) - 2*sin(α)*cos(β)*cos(γ) - 2*sin(γ)*cos(α) + cos(α)*cos(β)*cos(γ)],\n",
       "[                                                 2*sin(α)*sin(β) - sin(β)*cos(α)]])"
      ]
     },
     "execution_count": 43,
     "metadata": {},
     "output_type": "execute_result"
    }
   ],
   "source": [
    "w1 = v2.to_matrix(C) # saí um vetor coluna dos coeficientes de (C.x, C.y, C.z)\n",
    "w1"
   ]
  },
  {
   "cell_type": "code",
   "execution_count": 44,
   "metadata": {},
   "outputs": [
    {
     "data": {
      "text/latex": [
       "$\\displaystyle \\left[\\begin{matrix}- 2 \\sin{\\left(α \\right)} \\sin{\\left(γ \\right)} \\cos{\\left(β \\right)} + \\sin{\\left(α \\right)} \\cos{\\left(γ \\right)} + \\sin{\\left(γ \\right)} \\cos{\\left(α \\right)} \\cos{\\left(β \\right)} + 2 \\cos{\\left(α \\right)} \\cos{\\left(γ \\right)} & - \\sin{\\left(α \\right)} \\sin{\\left(γ \\right)} - 2 \\sin{\\left(α \\right)} \\cos{\\left(β \\right)} \\cos{\\left(γ \\right)} - 2 \\sin{\\left(γ \\right)} \\cos{\\left(α \\right)} + \\cos{\\left(α \\right)} \\cos{\\left(β \\right)} \\cos{\\left(γ \\right)} & 2 \\sin{\\left(α \\right)} \\sin{\\left(β \\right)} - \\sin{\\left(β \\right)} \\cos{\\left(α \\right)}\\end{matrix}\\right]$"
      ],
      "text/plain": [
       "Matrix([[-2*sin(α)*sin(γ)*cos(β) + sin(α)*cos(γ) + sin(γ)*cos(α)*cos(β) + 2*cos(α)*cos(γ), -sin(α)*sin(γ) - 2*sin(α)*cos(β)*cos(γ) - 2*sin(γ)*cos(α) + cos(α)*cos(β)*cos(γ), 2*sin(α)*sin(β) - sin(β)*cos(α)]])"
      ]
     },
     "execution_count": 44,
     "metadata": {},
     "output_type": "execute_result"
    }
   ],
   "source": [
    "w1.T # transpõe"
   ]
  },
  {
   "cell_type": "code",
   "execution_count": null,
   "metadata": {},
   "outputs": [],
   "source": []
  }
 ],
 "metadata": {
  "kernelspec": {
   "display_name": "Python 3",
   "language": "python",
   "name": "python3"
  },
  "language_info": {
   "codemirror_mode": {
    "name": "ipython",
    "version": 3
   },
   "file_extension": ".py",
   "mimetype": "text/x-python",
   "name": "python",
   "nbconvert_exporter": "python",
   "pygments_lexer": "ipython3",
   "version": "3.8.5"
  }
 },
 "nbformat": 4,
 "nbformat_minor": 4
}
